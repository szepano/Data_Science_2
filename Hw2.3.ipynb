{
 "cells": [
  {
   "cell_type": "code",
   "execution_count": 30,
   "id": "d019c8af-a24d-4a02-9139-fa758dc35048",
   "metadata": {},
   "outputs": [
    {
     "name": "stdout",
     "output_type": "stream",
     "text": [
      "                                                name  \\\n",
      "0                      10-Day Green Smoothie Cleanse   \n",
      "1                                  11/22/63: A Novel   \n",
      "2            12 Rules for Life: An Antidote to Chaos   \n",
      "3                             1984 (Signet Classics)   \n",
      "4  5,000 Awesome Facts (About Everything!) (Natio...   \n",
      "\n",
      "                     author  user_rating  reviews  price  year        genre  \n",
      "0                  JJ Smith          4.7    17350      8  2016  Non Fiction  \n",
      "1              Stephen King          4.6     2052     22  2011      Fiction  \n",
      "2        Jordan B. Peterson          4.7    18979     15  2018  Non Fiction  \n",
      "3             George Orwell          4.7    21424      6  2017      Fiction  \n",
      "4  National Geographic Kids          4.8     7665     12  2019  Non Fiction  \n"
     ]
    }
   ],
   "source": [
    "import pandas as pd\n",
    "import seaborn as sns\n",
    "import matplotlib.pyplot as plt\n",
    "\n",
    "df = pd.read_csv('bestsellers with categories.csv')\n",
    "df.columns = ['name', 'author', 'user_rating', 'reviews', 'price', 'year', 'genre']\n",
    "\n",
    "print(df.head())"
   ]
  },
  {
   "cell_type": "code",
   "execution_count": 31,
   "id": "5581ce1f-95d6-4c7b-a22c-2746c6e5b271",
   "metadata": {},
   "outputs": [
    {
     "name": "stdout",
     "output_type": "stream",
     "text": [
      "Verses: 550; Columns: 7\n"
     ]
    }
   ],
   "source": [
    "print(f'Verses: {df.shape[0]}; Columns: {df.shape[1]}')"
   ]
  },
  {
   "cell_type": "code",
   "execution_count": 32,
   "id": "8465ea25-0d93-446f-a08f-0a6160d13d86",
   "metadata": {},
   "outputs": [
    {
     "name": "stdout",
     "output_type": "stream",
     "text": [
      "O ilu książkach przechowywane są dane w zbiorze danych? Odpowiedź: 351\n"
     ]
    }
   ],
   "source": [
    "print(f'O ilu książkach przechowywane są dane w zbiorze danych? Odpowiedź: {len(df['name'].value_counts())}')"
   ]
  },
  {
   "cell_type": "code",
   "execution_count": 33,
   "id": "cd901e36-727e-4ab2-a144-adc91f759d66",
   "metadata": {},
   "outputs": [
    {
     "name": "stdout",
     "output_type": "stream",
     "text": [
      "name           0.0\n",
      "author         0.0\n",
      "user_rating    0.0\n",
      "reviews        0.0\n",
      "price          0.0\n",
      "year           0.0\n",
      "genre          0.0\n",
      "dtype: float64\n",
      "Czy są jakieś zmienne z brakującymi wartościami? Odpowiedź: Nie\n"
     ]
    }
   ],
   "source": [
    "print((df.isna().sum()) / len(df))\n",
    "print(f'Czy są jakieś zmienne z brakującymi wartościami? Odpowiedź: Nie')"
   ]
  },
  {
   "cell_type": "code",
   "execution_count": 34,
   "id": "01118eef-7a4e-4348-a795-1d194db29b5e",
   "metadata": {},
   "outputs": [
    {
     "name": "stdout",
     "output_type": "stream",
     "text": [
      "Jakie są unikalne gatunki? Odpowiedź: ['Non Fiction' 'Fiction']\n"
     ]
    }
   ],
   "source": [
    "print(f'Jakie są unikalne gatunki? Odpowiedź: {df['genre'].unique()}')"
   ]
  },
  {
   "cell_type": "code",
   "execution_count": 43,
   "id": "19143a02-d134-4cdc-9b89-c66c24e6a908",
   "metadata": {},
   "outputs": [
    {
     "data": {
      "image/png": "[encoded data removed]",
      "text/plain": [
       "<Figure size 640x480 with 1 Axes>"
      ]
     },
     "metadata": {},
     "output_type": "display_data"
    }
   ],
   "source": [
    "sns.histplot(df['price'], bins=30, kde=True)\n",
    "plt.show()"
   ]
  },
  {
   "cell_type": "code",
   "execution_count": 44,
   "id": "a3164116-1018-4b0f-8fc8-aaff715dbe54",
   "metadata": {},
   "outputs": [
    {
     "name": "stdout",
     "output_type": "stream",
     "text": [
      "Cena maksymalna: 105\n",
      "Cena minimalna: 0\n",
      "Średnia cena: 13.1\n",
      "Mediana ceny: 11.0\n"
     ]
    }
   ],
   "source": [
    "print(f'Cena maksymalna: {df['price'].max()}\\nCena minimalna: {df['price'].min()}\\nŚrednia cena: {df['price'].mean()}\\nMediana ceny: {df['price'].median()}') "
   ]
  },
  {
   "cell_type": "code",
   "execution_count": 45,
   "id": "5b56bab6-2319-4b44-b02f-e663e7aded91",
   "metadata": {},
   "outputs": [
    {
     "name": "stdout",
     "output_type": "stream",
     "text": [
      "Jaka jest najwyższa ocena w zbiorze danych? Odpowiedź: 4.9\n"
     ]
    }
   ],
   "source": [
    "print(f'Jaka jest najwyższa ocena w zbiorze danych? Odpowiedź: {df['user_rating'].max()}')"
   ]
  },
  {
   "cell_type": "code",
   "execution_count": 54,
   "id": "70c1a55c-5e16-464e-b396-c6f14b839387",
   "metadata": {},
   "outputs": [
    {
     "name": "stdout",
     "output_type": "stream",
     "text": [
      "Która książka ma najwięcej recenzji? Odpowiedź: 52\n"
     ]
    }
   ],
   "source": [
    "print(f'Ile książek ma taką ocenę? Odpowiedź: {len(df[df['user_rating'] == df['user_rating'].max()])}')"
   ]
  },
  {
   "cell_type": "code",
   "execution_count": null,
   "id": "2f7dd0f0-f19d-4fe3-b8a3-7b5b882254ad",
   "metadata": {},
   "outputs": [],
   "source": []
  }
 ],
 "metadata": {
  "kernelspec": {
   "display_name": "Python 3 (ipykernel)",
   "language": "python",
   "name": "python3"
  },
  "language_info": {
   "codemirror_mode": {
    "name": "ipython",
    "version": 3
   },
   "file_extension": ".py",
   "mimetype": "text/x-python",
   "name": "python",
   "nbconvert_exporter": "python",
   "pygments_lexer": "ipython3",
   "version": "3.12.3"
  }
 },
 "nbformat": 4,
 "nbformat_minor": 5
}
