{
 "cells": [
  {
   "cell_type": "code",
   "execution_count": 1,
   "id": "d019c8af-a24d-4a02-9139-fa758dc35048",
   "metadata": {},
   "outputs": [
    {
     "name": "stdout",
     "output_type": "stream",
     "text": [
      "                                                name  \\\n",
      "0                      10-Day Green Smoothie Cleanse   \n",
      "1                                  11/22/63: A Novel   \n",
      "2            12 Rules for Life: An Antidote to Chaos   \n",
      "3                             1984 (Signet Classics)   \n",
      "4  5,000 Awesome Facts (About Everything!) (Natio...   \n",
      "\n",
      "                     author  user_rating  reviews  price  year        genre  \n",
      "0                  JJ Smith          4.7    17350      8  2016  Non Fiction  \n",
      "1              Stephen King          4.6     2052     22  2011      Fiction  \n",
      "2        Jordan B. Peterson          4.7    18979     15  2018  Non Fiction  \n",
      "3             George Orwell          4.7    21424      6  2017      Fiction  \n",
      "4  National Geographic Kids          4.8     7665     12  2019  Non Fiction  \n"
     ]
    }
   ],
   "source": [
    "import pandas as pd\n",
    "import seaborn as sns\n",
    "import matplotlib.pyplot as plt\n",
    "\n",
    "df = pd.read_csv('bestsellers with categories.csv')\n",
    "df.columns = ['name', 'author', 'user_rating', 'reviews', 'price', 'year', 'genre']\n",
    "\n",
    "print(df.head())"
   ]
  },
  {
   "cell_type": "code",
   "execution_count": 2,
   "id": "5581ce1f-95d6-4c7b-a22c-2746c6e5b271",
   "metadata": {},
   "outputs": [
    {
     "name": "stdout",
     "output_type": "stream",
     "text": [
      "Verses: 550; Columns: 7\n"
     ]
    }
   ],
   "source": [
    "print(f'Verses: {df.shape[0]}; Columns: {df.shape[1]}')"
   ]
  },
  {
   "cell_type": "code",
   "execution_count": 3,
   "id": "8465ea25-0d93-446f-a08f-0a6160d13d86",
   "metadata": {},
   "outputs": [
    {
     "name": "stdout",
     "output_type": "stream",
     "text": [
      "O ilu książkach przechowywane są dane w zbiorze danych? Odpowiedź: 351\n"
     ]
    }
   ],
   "source": [
    "print(f'O ilu książkach przechowywane są dane w zbiorze danych? Odpowiedź: {len(df['name'].value_counts())}')"
   ]
  },
  {
   "cell_type": "code",
   "execution_count": 4,
   "id": "cd901e36-727e-4ab2-a144-adc91f759d66",
   "metadata": {},
   "outputs": [
    {
     "name": "stdout",
     "output_type": "stream",
     "text": [
      "name           0.0\n",
      "author         0.0\n",
      "user_rating    0.0\n",
      "reviews        0.0\n",
      "price          0.0\n",
      "year           0.0\n",
      "genre          0.0\n",
      "dtype: float64\n",
      "Czy są jakieś zmienne z brakującymi wartościami? Odpowiedź: Nie\n"
     ]
    }
   ],
   "source": [
    "print((df.isna().sum()) / len(df))\n",
    "print(f'Czy są jakieś zmienne z brakującymi wartościami? Odpowiedź: Nie')"
   ]
  },
  {
   "cell_type": "code",
   "execution_count": 5,
   "id": "01118eef-7a4e-4348-a795-1d194db29b5e",
   "metadata": {},
   "outputs": [
    {
     "name": "stdout",
     "output_type": "stream",
     "text": [
      "Jakie są unikalne gatunki? Odpowiedź: ['Non Fiction' 'Fiction']\n"
     ]
    }
   ],
   "source": [
    "print(f'Jakie są unikalne gatunki? Odpowiedź: {df['genre'].unique()}')"
   ]
  },
  {
   "cell_type": "code",
   "execution_count": 6,
   "id": "19143a02-d134-4cdc-9b89-c66c24e6a908",
   "metadata": {},
   "outputs": [
    {
     "data": {
      "image/png": "[encoded data removed]",
      "text/plain": [
       "<Figure size 640x480 with 1 Axes>"
      ]
     },
     "metadata": {},
     "output_type": "display_data"
    }
   ],
   "source": [
    "sns.histplot(df['price'], bins=30, kde=True)\n",
    "plt.show()"
   ]
  },
  {
   "cell_type": "code",
   "execution_count": 7,
   "id": "a3164116-1018-4b0f-8fc8-aaff715dbe54",
   "metadata": {},
   "outputs": [
    {
     "name": "stdout",
     "output_type": "stream",
     "text": [
      "Cena maksymalna: 105\n",
      "Cena minimalna: 0\n",
      "Średnia cena: 13.1\n",
      "Mediana ceny: 11.0\n"
     ]
    }
   ],
   "source": [
    "print(f'Cena maksymalna: {df['price'].max()}\\nCena minimalna: {df['price'].min()}\\nŚrednia cena: {df['price'].mean()}\\nMediana ceny: {df['price'].median()}') "
   ]
  },
  {
   "cell_type": "code",
   "execution_count": 8,
   "id": "5b56bab6-2319-4b44-b02f-e663e7aded91",
   "metadata": {},
   "outputs": [
    {
     "name": "stdout",
     "output_type": "stream",
     "text": [
      "Jaka jest najwyższa ocena w zbiorze danych? Odpowiedź: 4.9\n"
     ]
    }
   ],
   "source": [
    "print(f'Jaka jest najwyższa ocena w zbiorze danych? Odpowiedź: {df['user_rating'].max()}')"
   ]
  },
  {
   "cell_type": "code",
   "execution_count": 9,
   "id": "70c1a55c-5e16-464e-b396-c6f14b839387",
   "metadata": {},
   "outputs": [
    {
     "name": "stdout",
     "output_type": "stream",
     "text": [
      "Ile książek ma taką ocenę? Odpowiedź: 52\n"
     ]
    }
   ],
   "source": [
    "print(f'Ile książek ma taką ocenę? Odpowiedź: {len(df[df['user_rating'] == df['user_rating'].max()])}')"
   ]
  },
  {
   "cell_type": "code",
   "execution_count": 10,
   "id": "2f7dd0f0-f19d-4fe3-b8a3-7b5b882254ad",
   "metadata": {},
   "outputs": [
    {
     "name": "stdout",
     "output_type": "stream",
     "text": [
      "Która książka ma najwięcej recenzji? Odpowiedź: Where the Crawdads Sing\n"
     ]
    }
   ],
   "source": [
    "print(f'Która książka ma najwięcej recenzji? Odpowiedź: {df.loc[df['reviews'].idxmax(), 'name']}')"
   ]
  },
  {
   "cell_type": "code",
   "execution_count": 11,
   "id": "a60d10e4-4927-44a1-af64-f5dc18bbd2b4",
   "metadata": {},
   "outputs": [
    {
     "name": "stdout",
     "output_type": "stream",
     "text": [
      "Która z książek z Top 50 w 2015 roku jest najdroższa? Odpowiedź: Publication Manual of the American Psychological Association, 6th Edition\n"
     ]
    }
   ],
   "source": [
    "df_2015 = df[df['year'] == 2015]\n",
    "print(f'Która z książek z Top 50 w 2015 roku jest najdroższa? Odpowiedź: {df_2015.loc[df_2015['price'].idxmax(), 'name']}')"
   ]
  },
  {
   "cell_type": "code",
   "execution_count": 12,
   "id": "054824e7-3bc0-42cb-a94c-f4db2f3668c6",
   "metadata": {},
   "outputs": [
    {
     "name": "stdout",
     "output_type": "stream",
     "text": [
      "Ile książek z gatunku Fiction znalazło się w Top 50 w 2010 roku (użyj &)? Odpowiedź: 20\n"
     ]
    }
   ],
   "source": [
    "print(f'Ile książek z gatunku Fiction znalazło się w Top 50 w 2010 roku (użyj &)? Odpowiedź: {len(df[(df['year'] == 2010) & (df['genre'] == 'Fiction')])}')"
   ]
  },
  {
   "cell_type": "code",
   "execution_count": 13,
   "id": "4b48e01e-4ea3-45d2-925e-7db19e6e82c1",
   "metadata": {},
   "outputs": [
    {
     "name": "stdout",
     "output_type": "stream",
     "text": [
      "Ile książek z oceną 4,9 znalazło się w rankingu w 2010 i 2011 roku (użyj | lub funkcji isin)? Odpowiedź: 1\n"
     ]
    }
   ],
   "source": [
    "print(f'Ile książek z oceną 4,9 znalazło się w rankingu w 2010 i 2011 roku (użyj | lub funkcji isin)? Odpowiedź: {len(df[\n",
    "      ((df['year'] == 2010) & (df['user_rating'] == 4.9)) | ((df['year'] == 2011) & (df['user_rating'] == 4.9))])}')"
   ]
  },
  {
   "cell_type": "code",
   "execution_count": 16,
   "id": "8a392339-e096-4d03-b613-dcf89c11a33f",
   "metadata": {},
   "outputs": [
    {
     "name": "stdout",
     "output_type": "stream",
     "text": [
      "                                                  name              author  \\\n",
      "507                              To Kill a Mockingbird          Harper Lee   \n",
      "54   Creative Haven Creative Cats Coloring Book (Ad...     Marjorie Sarnat   \n",
      "206                         Knock-Knock Jokes for Kids         Rob Elliott   \n",
      "111                                    First 100 Words        Roger Priddy   \n",
      "210                      Laugh-Out-Loud Jokes for Kids         Rob Elliott   \n",
      "123                               Giraffes Can't Dance       Giles Andreae   \n",
      "55   Creative Haven Owls Coloring Book (Adult Color...     Marjorie Sarnat   \n",
      "63                      Dear Zoo: A Lift-the-Flap Book        Rod Campbell   \n",
      "224                                   Love You Forever       Robert Munsch   \n",
      "478                        The Very Hungry Caterpillar          Eric Carle   \n",
      "89   Dover Creative Haven Art Nouveau Animal Design...         Marty Noble   \n",
      "201  Killing Reagan: The Violent Assault That Chang...       Bill O'Reilly   \n",
      "28                        Baby Touch and Feel: Animals                  DK   \n",
      "17      Adult Coloring Book: Stress Relieving Patterns  Blue Star Coloring   \n",
      "376  The Four Agreements: A Practical Guide to Pers...     Don Miguel Ruiz   \n",
      "16   Adult Coloring Book: Stress Relieving Animal D...  Blue Star Coloring   \n",
      "253              Old School (Diary of a Wimpy Kid #10)         Jeff Kinney   \n",
      "\n",
      "     user_rating  reviews  price  year        genre  \n",
      "507          4.8    26234      0  2015      Fiction  \n",
      "54           4.8     4022      4  2015  Non Fiction  \n",
      "206          4.5     3673      4  2015  Non Fiction  \n",
      "111          4.7    17323      4  2015  Non Fiction  \n",
      "210          4.6     6990      4  2015  Non Fiction  \n",
      "123          4.8    14038      4  2015      Fiction  \n",
      "55           4.8     3871      5  2015  Non Fiction  \n",
      "63           4.8    10922      5  2015      Fiction  \n",
      "224          4.8    18613      5  2015      Fiction  \n",
      "478          4.9    19546      5  2015      Fiction  \n",
      "89           4.6     2134      5  2015  Non Fiction  \n",
      "201          4.6     5235      5  2015  Non Fiction  \n",
      "28           4.6     5360      5  2015  Non Fiction  \n",
      "17           4.4     2951      6  2015  Non Fiction  \n",
      "376          4.7    23308      6  2015  Non Fiction  \n",
      "16           4.6     2925      6  2015  Non Fiction  \n",
      "253          4.8     6169      7  2015      Fiction  \n"
     ]
    }
   ],
   "source": [
    "lt8_2015 = df[(df['year'] == 2015) & (df['price'] < 8)]\n",
    "sorted = lt8_2015.sort_values('price')\n",
    "print(sorted)"
   ]
  },
  {
   "cell_type": "code",
   "execution_count": 17,
   "id": "16b5b8eb-263d-422a-9e18-72fea32c7db7",
   "metadata": {},
   "outputs": [
    {
     "name": "stdout",
     "output_type": "stream",
     "text": [
      "Która książka jest ostatnia na posortowanej liście? Odpowiedź:                                       name       author  user_rating  reviews  \\\n",
      "253  Old School (Diary of a Wimpy Kid #10)  Jeff Kinney          4.8     6169   \n",
      "\n",
      "     price  year    genre  \n",
      "253      7  2015  Fiction  \n"
     ]
    }
   ],
   "source": [
    "print(f'Która książka jest ostatnia na posortowanej liście? Odpowiedź: {sorted[-1::]}')"
   ]
  },
  {
   "cell_type": "code",
   "execution_count": 18,
   "id": "3973cd04-9849-4e9d-9c71-9da83d1da931",
   "metadata": {},
   "outputs": [
    {
     "name": "stdout",
     "output_type": "stream",
     "text": [
      "             min_price  max_price\n",
      "genre                            \n",
      "Fiction              0         82\n",
      "Non Fiction          0        105\n"
     ]
    }
   ],
   "source": [
    "genre_price_grouped = df.groupby('genre').agg(min_price=('price', 'min'), max_price=('price', 'max'))\n",
    "print(genre_price_grouped)"
   ]
  },
  {
   "cell_type": "code",
   "execution_count": 19,
   "id": "ed1798ed-8042-44b1-8029-7e5f91d28563",
   "metadata": {},
   "outputs": [
    {
     "name": "stdout",
     "output_type": "stream",
     "text": [
      "Maksymalna cena dla gatunku Fiction: Odpowiedź: 82\n"
     ]
    }
   ],
   "source": [
    "print(f'Maksymalna cena dla gatunku Fiction: Odpowiedź: {genre_price_grouped.loc['Fiction', 'max_price']}')"
   ]
  },
  {
   "cell_type": "code",
   "execution_count": 20,
   "id": "52d4d731-fd94-41a8-9dc9-cd4d6561627b",
   "metadata": {},
   "outputs": [
    {
     "name": "stdout",
     "output_type": "stream",
     "text": [
      "Minimalna cena dla gatunku Fiction: Odpowiedź: 0\n"
     ]
    }
   ],
   "source": [
    "print(f'Minimalna cena dla gatunku Fiction: Odpowiedź: {genre_price_grouped.loc['Fiction', 'min_price']}')"
   ]
  },
  {
   "cell_type": "code",
   "execution_count": 21,
   "id": "a4430dac-3e61-495e-bbd1-cf8fb5c7fed2",
   "metadata": {},
   "outputs": [
    {
     "name": "stdout",
     "output_type": "stream",
     "text": [
      "Maksymalna cena dla gatunku Non Fiction: Odpowiedź: 105\n"
     ]
    }
   ],
   "source": [
    "print(f'Maksymalna cena dla gatunku Non Fiction: Odpowiedź: {genre_price_grouped.loc['Non Fiction', 'max_price']}')"
   ]
  },
  {
   "cell_type": "code",
   "execution_count": 22,
   "id": "4c32ece9-9cb0-439f-8eee-b735994fa0df",
   "metadata": {},
   "outputs": [
    {
     "name": "stdout",
     "output_type": "stream",
     "text": [
      "Minimalna cena dla gatunku Non Fiction: Odpowiedź: 0\n"
     ]
    }
   ],
   "source": [
    "print(f'Minimalna cena dla gatunku Non Fiction: Odpowiedź: {genre_price_grouped.loc['Non Fiction', 'min_price']}')"
   ]
  },
  {
   "cell_type": "code",
   "execution_count": 23,
   "id": "6fecbe43-6707-4472-b427-d56bef8c2b29",
   "metadata": {},
   "outputs": [
    {
     "name": "stdout",
     "output_type": "stream",
     "text": [
      "                            books\n",
      "author                           \n",
      "Abraham Verghese                2\n",
      "Adam Gasiewski                  1\n",
      "Adam Mansbach                   1\n",
      "Adir Levy                       1\n",
      "Admiral William H. McRaven      1\n",
      "...                           ...\n",
      "Walter Isaacson                 3\n",
      "William Davis                   2\n",
      "William P. Young                2\n",
      "Wizards RPG Team                3\n",
      "Zhi Gang Sha                    2\n",
      "\n",
      "[248 rows x 1 columns]\n"
     ]
    }
   ],
   "source": [
    "authors = df.groupby('author').agg(books=('author', 'count'))\n",
    "print(authors)"
   ]
  },
  {
   "cell_type": "code",
   "execution_count": 24,
   "id": "d3811a77-16b4-49d6-853a-cbbceb31eb6a",
   "metadata": {},
   "outputs": [
    {
     "name": "stdout",
     "output_type": "stream",
     "text": [
      "Jaki jest wymiar tabeli? Odpowiedź: (248, 1)\n"
     ]
    }
   ],
   "source": [
    "print(f'Jaki jest wymiar tabeli? Odpowiedź: {authors.shape}')"
   ]
  },
  {
   "cell_type": "code",
   "execution_count": 31,
   "id": "b04c3a9d-9f12-4438-a875-856a43ba6cca",
   "metadata": {},
   "outputs": [
    {
     "name": "stdout",
     "output_type": "stream",
     "text": [
      "Który autor ma najwięcej książek? Odpowiedź: Jeff Kinney\n"
     ]
    }
   ],
   "source": [
    "print(f'Który autor ma najwięcej książek? Odpowiedź: {authors['books'].idxmax()}')"
   ]
  },
  {
   "cell_type": "code",
   "execution_count": 32,
   "id": "13718eb5-17d7-41b4-b923-b8da7e2d210e",
   "metadata": {},
   "outputs": [
    {
     "name": "stdout",
     "output_type": "stream",
     "text": [
      "Ile jest książek tego autora? Odpowiedź: 12\n"
     ]
    }
   ],
   "source": [
    "print(f'Ile jest książek tego autora? Odpowiedź: {authors['books'].max()}')"
   ]
  },
  {
   "cell_type": "code",
   "execution_count": 34,
   "id": "0cc235c2-dffc-4ed5-bb0f-2318886809e5",
   "metadata": {},
   "outputs": [
    {
     "name": "stdout",
     "output_type": "stream",
     "text": [
      "                            avg_rating\n",
      "author                                \n",
      "Abraham Verghese              4.600000\n",
      "Adam Gasiewski                4.400000\n",
      "Adam Mansbach                 4.800000\n",
      "Adir Levy                     4.800000\n",
      "Admiral William H. McRaven    4.700000\n",
      "...                                ...\n",
      "Walter Isaacson               4.566667\n",
      "William Davis                 4.400000\n",
      "William P. Young              4.600000\n",
      "Wizards RPG Team              4.800000\n",
      "Zhi Gang Sha                  4.600000\n",
      "\n",
      "[248 rows x 1 columns]\n"
     ]
    }
   ],
   "source": [
    "authors_ratings = df.groupby('author').agg(avg_rating=('user_rating', 'mean'))\n",
    "print(authors_ratings)"
   ]
  },
  {
   "cell_type": "code",
   "execution_count": 39,
   "id": "0d956eca-bebc-42bb-829f-512a558cb132",
   "metadata": {},
   "outputs": [
    {
     "name": "stdout",
     "output_type": "stream",
     "text": [
      "Który autor ma najniższą średnią ocenę? Odpowiedź: Donna Tartt\n"
     ]
    }
   ],
   "source": [
    "print(f'Który autor ma najniższą średnią ocenę? Odpowiedź: {authors_ratings['avg_rating'].idxmin()}')"
   ]
  },
  {
   "cell_type": "code",
   "execution_count": 40,
   "id": "dc939bf3-0d57-461c-8d22-eda59ab91141",
   "metadata": {},
   "outputs": [
    {
     "name": "stdout",
     "output_type": "stream",
     "text": [
      "Jaka jest średnia ocena tego autora? Odpowiedź: 3.9\n"
     ]
    }
   ],
   "source": [
    "print(f'Jaka jest średnia ocena tego autora? Odpowiedź: {authors_ratings['avg_rating'].min()}')"
   ]
  },
  {
   "cell_type": "code",
   "execution_count": 41,
   "id": "032d9528-e074-4db3-9046-5680bedd5ad5",
   "metadata": {},
   "outputs": [
    {
     "name": "stdout",
     "output_type": "stream",
     "text": [
      "                            books  avg_rating\n",
      "author                                       \n",
      "Abraham Verghese                2    4.600000\n",
      "Adam Gasiewski                  1    4.400000\n",
      "Adam Mansbach                   1    4.800000\n",
      "Adir Levy                       1    4.800000\n",
      "Admiral William H. McRaven      1    4.700000\n",
      "...                           ...         ...\n",
      "Walter Isaacson                 3    4.566667\n",
      "William Davis                   2    4.400000\n",
      "William P. Young                2    4.600000\n",
      "Wizards RPG Team                3    4.800000\n",
      "Zhi Gang Sha                    2    4.600000\n",
      "\n",
      "[248 rows x 2 columns]\n"
     ]
    }
   ],
   "source": [
    "authors_final = pd.concat([authors, authors_ratings], axis=1)\n",
    "print(authors_final)"
   ]
  },
  {
   "cell_type": "code",
   "execution_count": 48,
   "id": "4a851d9e-e07f-427c-a478-80307a193547",
   "metadata": {},
   "outputs": [
    {
     "name": "stdout",
     "output_type": "stream",
     "text": [
      "                                    books  avg_rating\n",
      "author                                               \n",
      "Muriel Barbery                          1    4.000000\n",
      "Chris Cleave                            1    4.100000\n",
      "Ian K. Smith M.D.                       1    4.100000\n",
      "Pierre Dukan                            1    4.100000\n",
      "Elizabeth Strout                        1    4.200000\n",
      "...                                   ...         ...\n",
      "American Psychological Association     10    4.500000\n",
      "Suzanne Collins                        11    4.663636\n",
      "Gary Chapman                           11    4.736364\n",
      "Rick Riordan                           11    4.772727\n",
      "Jeff Kinney                            12    4.800000\n",
      "\n",
      "[248 rows x 2 columns]\n"
     ]
    }
   ],
   "source": [
    "authors_final = authors_final.sort_values(['books', 'avg_rating'])\n",
    "print(authors_final)"
   ]
  },
  {
   "cell_type": "code",
   "execution_count": 55,
   "id": "d44f2e5a-036e-4104-a7e5-b8e293351e6a",
   "metadata": {},
   "outputs": [
    {
     "ename": "KeyError",
     "evalue": "0",
     "output_type": "error",
     "traceback": [
      "\u001b[1;31m---------------------------------------------------------------------------\u001b[0m",
      "\u001b[1;31mKeyError\u001b[0m                                  Traceback (most recent call last)",
      "File \u001b[1;32m~\\OneDrive\\VSC\\Data_Science_2\\env\\Lib\\site-packages\\pandas\\core\\indexes\\base.py:3805\u001b[0m, in \u001b[0;36mIndex.get_loc\u001b[1;34m(self, key)\u001b[0m\n\u001b[0;32m   3804\u001b[0m \u001b[38;5;28;01mtry\u001b[39;00m:\n\u001b[1;32m-> 3805\u001b[0m     \u001b[38;5;28;01mreturn\u001b[39;00m \u001b[38;5;28;43mself\u001b[39;49m\u001b[38;5;241;43m.\u001b[39;49m\u001b[43m_engine\u001b[49m\u001b[38;5;241;43m.\u001b[39;49m\u001b[43mget_loc\u001b[49m\u001b[43m(\u001b[49m\u001b[43mcasted_key\u001b[49m\u001b[43m)\u001b[49m\n\u001b[0;32m   3806\u001b[0m \u001b[38;5;28;01mexcept\u001b[39;00m \u001b[38;5;167;01mKeyError\u001b[39;00m \u001b[38;5;28;01mas\u001b[39;00m err:\n",
      "File \u001b[1;32mindex.pyx:167\u001b[0m, in \u001b[0;36mpandas._libs.index.IndexEngine.get_loc\u001b[1;34m()\u001b[0m\n",
      "File \u001b[1;32mindex.pyx:196\u001b[0m, in \u001b[0;36mpandas._libs.index.IndexEngine.get_loc\u001b[1;34m()\u001b[0m\n",
      "File \u001b[1;32mpandas\\\\_libs\\\\hashtable_class_helper.pxi:7081\u001b[0m, in \u001b[0;36mpandas._libs.hashtable.PyObjectHashTable.get_item\u001b[1;34m()\u001b[0m\n",
      "File \u001b[1;32mpandas\\\\_libs\\\\hashtable_class_helper.pxi:7089\u001b[0m, in \u001b[0;36mpandas._libs.hashtable.PyObjectHashTable.get_item\u001b[1;34m()\u001b[0m\n",
      "\u001b[1;31mKeyError\u001b[0m: 0",
      "\nThe above exception was the direct cause of the following exception:\n",
      "\u001b[1;31mKeyError\u001b[0m                                  Traceback (most recent call last)",
      "Cell \u001b[1;32mIn[55], line 1\u001b[0m\n\u001b[1;32m----> 1\u001b[0m \u001b[38;5;28mprint\u001b[39m(\u001b[38;5;124mf\u001b[39m\u001b[38;5;124m'\u001b[39m\u001b[38;5;124mKtóry autor jest pierwszy na liście? Odpowiedź: \u001b[39m\u001b[38;5;132;01m{\u001b[39;00m\u001b[43mauthors_final\u001b[49m\u001b[38;5;241;43m.\u001b[39;49m\u001b[43mloc\u001b[49m\u001b[43m[\u001b[49m\u001b[38;5;241;43m0\u001b[39;49m\u001b[43m]\u001b[49m\u001b[38;5;132;01m}\u001b[39;00m\u001b[38;5;124m'\u001b[39m)\n",
      "File \u001b[1;32m~\\OneDrive\\VSC\\Data_Science_2\\env\\Lib\\site-packages\\pandas\\core\\indexing.py:1191\u001b[0m, in \u001b[0;36m_LocationIndexer.__getitem__\u001b[1;34m(self, key)\u001b[0m\n\u001b[0;32m   1189\u001b[0m maybe_callable \u001b[38;5;241m=\u001b[39m com\u001b[38;5;241m.\u001b[39mapply_if_callable(key, \u001b[38;5;28mself\u001b[39m\u001b[38;5;241m.\u001b[39mobj)\n\u001b[0;32m   1190\u001b[0m maybe_callable \u001b[38;5;241m=\u001b[39m \u001b[38;5;28mself\u001b[39m\u001b[38;5;241m.\u001b[39m_check_deprecated_callable_usage(key, maybe_callable)\n\u001b[1;32m-> 1191\u001b[0m \u001b[38;5;28;01mreturn\u001b[39;00m \u001b[38;5;28;43mself\u001b[39;49m\u001b[38;5;241;43m.\u001b[39;49m\u001b[43m_getitem_axis\u001b[49m\u001b[43m(\u001b[49m\u001b[43mmaybe_callable\u001b[49m\u001b[43m,\u001b[49m\u001b[43m \u001b[49m\u001b[43maxis\u001b[49m\u001b[38;5;241;43m=\u001b[39;49m\u001b[43maxis\u001b[49m\u001b[43m)\u001b[49m\n",
      "File \u001b[1;32m~\\OneDrive\\VSC\\Data_Science_2\\env\\Lib\\site-packages\\pandas\\core\\indexing.py:1431\u001b[0m, in \u001b[0;36m_LocIndexer._getitem_axis\u001b[1;34m(self, key, axis)\u001b[0m\n\u001b[0;32m   1429\u001b[0m \u001b[38;5;66;03m# fall thru to straight lookup\u001b[39;00m\n\u001b[0;32m   1430\u001b[0m \u001b[38;5;28mself\u001b[39m\u001b[38;5;241m.\u001b[39m_validate_key(key, axis)\n\u001b[1;32m-> 1431\u001b[0m \u001b[38;5;28;01mreturn\u001b[39;00m \u001b[38;5;28;43mself\u001b[39;49m\u001b[38;5;241;43m.\u001b[39;49m\u001b[43m_get_label\u001b[49m\u001b[43m(\u001b[49m\u001b[43mkey\u001b[49m\u001b[43m,\u001b[49m\u001b[43m \u001b[49m\u001b[43maxis\u001b[49m\u001b[38;5;241;43m=\u001b[39;49m\u001b[43maxis\u001b[49m\u001b[43m)\u001b[49m\n",
      "File \u001b[1;32m~\\OneDrive\\VSC\\Data_Science_2\\env\\Lib\\site-packages\\pandas\\core\\indexing.py:1381\u001b[0m, in \u001b[0;36m_LocIndexer._get_label\u001b[1;34m(self, label, axis)\u001b[0m\n\u001b[0;32m   1379\u001b[0m \u001b[38;5;28;01mdef\u001b[39;00m \u001b[38;5;21m_get_label\u001b[39m(\u001b[38;5;28mself\u001b[39m, label, axis: AxisInt):\n\u001b[0;32m   1380\u001b[0m     \u001b[38;5;66;03m# GH#5567 this will fail if the label is not present in the axis.\u001b[39;00m\n\u001b[1;32m-> 1381\u001b[0m     \u001b[38;5;28;01mreturn\u001b[39;00m \u001b[38;5;28;43mself\u001b[39;49m\u001b[38;5;241;43m.\u001b[39;49m\u001b[43mobj\u001b[49m\u001b[38;5;241;43m.\u001b[39;49m\u001b[43mxs\u001b[49m\u001b[43m(\u001b[49m\u001b[43mlabel\u001b[49m\u001b[43m,\u001b[49m\u001b[43m \u001b[49m\u001b[43maxis\u001b[49m\u001b[38;5;241;43m=\u001b[39;49m\u001b[43maxis\u001b[49m\u001b[43m)\u001b[49m\n",
      "File \u001b[1;32m~\\OneDrive\\VSC\\Data_Science_2\\env\\Lib\\site-packages\\pandas\\core\\generic.py:4301\u001b[0m, in \u001b[0;36mNDFrame.xs\u001b[1;34m(self, key, axis, level, drop_level)\u001b[0m\n\u001b[0;32m   4299\u001b[0m             new_index \u001b[38;5;241m=\u001b[39m index[loc]\n\u001b[0;32m   4300\u001b[0m \u001b[38;5;28;01melse\u001b[39;00m:\n\u001b[1;32m-> 4301\u001b[0m     loc \u001b[38;5;241m=\u001b[39m \u001b[43mindex\u001b[49m\u001b[38;5;241;43m.\u001b[39;49m\u001b[43mget_loc\u001b[49m\u001b[43m(\u001b[49m\u001b[43mkey\u001b[49m\u001b[43m)\u001b[49m\n\u001b[0;32m   4303\u001b[0m     \u001b[38;5;28;01mif\u001b[39;00m \u001b[38;5;28misinstance\u001b[39m(loc, np\u001b[38;5;241m.\u001b[39mndarray):\n\u001b[0;32m   4304\u001b[0m         \u001b[38;5;28;01mif\u001b[39;00m loc\u001b[38;5;241m.\u001b[39mdtype \u001b[38;5;241m==\u001b[39m np\u001b[38;5;241m.\u001b[39mbool_:\n",
      "File \u001b[1;32m~\\OneDrive\\VSC\\Data_Science_2\\env\\Lib\\site-packages\\pandas\\core\\indexes\\base.py:3812\u001b[0m, in \u001b[0;36mIndex.get_loc\u001b[1;34m(self, key)\u001b[0m\n\u001b[0;32m   3807\u001b[0m     \u001b[38;5;28;01mif\u001b[39;00m \u001b[38;5;28misinstance\u001b[39m(casted_key, \u001b[38;5;28mslice\u001b[39m) \u001b[38;5;129;01mor\u001b[39;00m (\n\u001b[0;32m   3808\u001b[0m         \u001b[38;5;28misinstance\u001b[39m(casted_key, abc\u001b[38;5;241m.\u001b[39mIterable)\n\u001b[0;32m   3809\u001b[0m         \u001b[38;5;129;01mand\u001b[39;00m \u001b[38;5;28many\u001b[39m(\u001b[38;5;28misinstance\u001b[39m(x, \u001b[38;5;28mslice\u001b[39m) \u001b[38;5;28;01mfor\u001b[39;00m x \u001b[38;5;129;01min\u001b[39;00m casted_key)\n\u001b[0;32m   3810\u001b[0m     ):\n\u001b[0;32m   3811\u001b[0m         \u001b[38;5;28;01mraise\u001b[39;00m InvalidIndexError(key)\n\u001b[1;32m-> 3812\u001b[0m     \u001b[38;5;28;01mraise\u001b[39;00m \u001b[38;5;167;01mKeyError\u001b[39;00m(key) \u001b[38;5;28;01mfrom\u001b[39;00m \u001b[38;5;21;01merr\u001b[39;00m\n\u001b[0;32m   3813\u001b[0m \u001b[38;5;28;01mexcept\u001b[39;00m \u001b[38;5;167;01mTypeError\u001b[39;00m:\n\u001b[0;32m   3814\u001b[0m     \u001b[38;5;66;03m# If we have a listlike key, _check_indexing_error will raise\u001b[39;00m\n\u001b[0;32m   3815\u001b[0m     \u001b[38;5;66;03m#  InvalidIndexError. Otherwise we fall through and re-raise\u001b[39;00m\n\u001b[0;32m   3816\u001b[0m     \u001b[38;5;66;03m#  the TypeError.\u001b[39;00m\n\u001b[0;32m   3817\u001b[0m     \u001b[38;5;28mself\u001b[39m\u001b[38;5;241m.\u001b[39m_check_indexing_error(key)\n",
      "\u001b[1;31mKeyError\u001b[0m: 0"
     ]
    }
   ],
   "source": [
    "print(f'Który autor jest pierwszy na liście? Odpowiedź: {authors_final.iloc[0]}')"
   ]
  },
  {
   "cell_type": "code",
   "execution_count": null,
   "id": "97200cdb-0925-48c2-83fb-221a558eaaf2",
   "metadata": {},
   "outputs": [],
   "source": []
  }
 ],
 "metadata": {
  "kernelspec": {
   "display_name": "Python 3 (ipykernel)",
   "language": "python",
   "name": "python3"
  },
  "language_info": {
   "codemirror_mode": {
    "name": "ipython",
    "version": 3
   },
   "file_extension": ".py",
   "mimetype": "text/x-python",
   "name": "python",
   "nbconvert_exporter": "python",
   "pygments_lexer": "ipython3",
   "version": "3.12.3"
  }
 },
 "nbformat": 4,
 "nbformat_minor": 5
}
