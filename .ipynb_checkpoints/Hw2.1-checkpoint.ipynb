{
 "cells": [
  {
   "cell_type": "code",
   "execution_count": 92,
   "id": "07ec627f-e9b2-4004-99d7-44d25be6e364",
   "metadata": {},
   "outputs": [
    {
     "name": "stdout",
     "output_type": "stream",
     "text": [
      "                         regions  2011  2012  2013  2015  2017  2019  2021\n",
      "0  Autonomous Republic of Crimea  1.56  1.68  1.66     _     _     _     _\n",
      "1               Vinnytsia region  1.53  1.59  1.53   1.5  1.36   1.2  1.14\n",
      "2                   Volyn region  1.81  1.92  1.86  1.74  1.62  1.48  1.45\n",
      "3          Dnipropetrovsk region  1.44  1.52  1.51  1.48  1.29  1.11  1.03\n",
      "4                 Donetsk region  1.27  1.34  1.32     _     _     _     _\n"
     ]
    }
   ],
   "source": [
    "import pandas as pd\n",
    "import numpy as np\n",
    "\n",
    "df = pd.read_excel(\"fertility_rate.xlsx\")\n",
    "#df = table.copy()\n",
    "print(df.head())"
   ]
  },
  {
   "cell_type": "code",
   "execution_count": 93,
   "id": "3f1370dc-2445-43ba-8a43-f139f87f3574",
   "metadata": {},
   "outputs": [
    {
     "name": "stdout",
     "output_type": "stream",
     "text": [
      "Verses: 27; Columns: 8\n"
     ]
    }
   ],
   "source": [
    "print(f'Verses: {df.shape[0]}; Columns: {df.shape[1]}')"
   ]
  },
  {
   "cell_type": "code",
   "execution_count": 95,
   "id": "9ccbec33-edb5-41e5-9595-36290fe9319b",
   "metadata": {},
   "outputs": [
    {
     "name": "stdout",
     "output_type": "stream",
     "text": [
      "                         regions  2011  2012  2013  2015  2017  2019  2021\n",
      "0  Autonomous Republic of Crimea  1.56  1.68  1.66   NaN   NaN   NaN   NaN\n",
      "1               Vinnytsia region  1.53  1.59  1.53  1.50  1.36   1.2  1.14\n",
      "2                   Volyn region  1.81  1.92  1.86  1.74  1.62  1.48  1.45\n",
      "3          Dnipropetrovsk region  1.44  1.52  1.51  1.48  1.29  1.11  1.03\n",
      "4                 Donetsk region  1.27  1.34  1.32   NaN   NaN   NaN   NaN\n"
     ]
    }
   ],
   "source": [
    "import numpy as np\n",
    "df.replace('_', np.nan)\n",
    "print(df.head())"
   ]
  },
  {
   "cell_type": "code",
   "execution_count": 97,
   "id": "962731d0-2dcb-45be-bb68-8b64725cfcc3",
   "metadata": {},
   "outputs": [
    {
     "name": "stdout",
     "output_type": "stream",
     "text": [
      "regions     object\n",
      "2011       float64\n",
      "2012       float64\n",
      "2013       float64\n",
      "2015       float64\n",
      "2017       float64\n",
      "2019        object\n",
      "2021        object\n",
      "dtype: object\n"
     ]
    }
   ],
   "source": [
    "print(df.dtypes)"
   ]
  },
  {
   "cell_type": "code",
   "execution_count": 98,
   "id": "4a5ed3f6-79fb-4b0e-ad3d-ca23a067ffda",
   "metadata": {},
   "outputs": [
    {
     "name": "stdout",
     "output_type": "stream",
     "text": [
      "regions     object\n",
      "2011       float64\n",
      "2012       float64\n",
      "2013       float64\n",
      "2015       float64\n",
      "2017       float64\n",
      "2019       float64\n",
      "2021       float64\n",
      "dtype: object\n"
     ]
    }
   ],
   "source": [
    "df[2019] = df[2019].astype(float)\n",
    "df[2021] = df[2021].astype(float)\n",
    "print(df.dtypes)"
   ]
  },
  {
   "cell_type": "code",
   "execution_count": 107,
   "id": "8883a430-c16d-4bc1-95fa-229a8e1686e1",
   "metadata": {},
   "outputs": [
    {
     "name": "stdout",
     "output_type": "stream",
     "text": [
      "regions    0.000000\n",
      "2011       0.037037\n",
      "2012       0.000000\n",
      "2013       0.000000\n",
      "2015       0.148148\n",
      "2017       0.148148\n",
      "2019       0.148148\n",
      "2021       0.407407\n",
      "dtype: float64\n"
     ]
    }
   ],
   "source": [
    "print(df.isnull().sum() / len(df))"
   ]
  },
  {
   "cell_type": "code",
   "execution_count": 146,
   "id": "27b45e23-f26e-4f3c-8724-cc0e7d40feae",
   "metadata": {},
   "outputs": [
    {
     "name": "stdout",
     "output_type": "stream",
     "text": [
      "                          regions  2011  2012  2013  2015  2017  2019  2021\n",
      "0   Autonomous Republic of Crimea  1.56  1.68  1.66   NaN   NaN   NaN   NaN\n",
      "1                Vinnytsia region  1.53  1.59  1.53  1.50  1.36  1.20  1.14\n",
      "2                    Volyn region  1.81  1.92  1.86  1.74  1.62  1.48  1.45\n",
      "3           Dnipropetrovsk region  1.44  1.52  1.51  1.48  1.29  1.11  1.03\n",
      "4                  Donetsk region  1.27  1.34  1.32   NaN   NaN   NaN   NaN\n",
      "5                  Fatigue region  1.65  1.71  1.68  1.60  1.42  1.23  1.14\n",
      "6          Transcarpathian region  1.87  1.95  1.93  1.82  1.64  1.52   NaN\n",
      "7               Zaporizhia region  1.37  1.46  1.43  1.39  1.25  1.09   NaN\n",
      "8          Ivano-Frankivsk region  1.55  1.63  1.60  1.54  1.36  1.28  1.15\n",
      "9                     Kyiv region  1.58  1.67  1.64  1.65  1.41  2.15  1.07\n",
      "10              Kirovohrad region   NaN  1.61  1.57  1.49  1.30  1.12  1.04\n",
      "11                 Luhansk region  1.27  1.33  1.30   NaN   NaN   NaN   NaN\n",
      "12                    Lviv region  1.49  1.58  1.55  1.51  1.39  1.26  1.17\n",
      "13               Mykolayiv region  1.47  1.57  1.55  1.45  1.34  1.12   NaN\n",
      "14                  Odessa region  1.62  1.71  1.65  1.62  1.54  1.33   NaN\n",
      "15                 Poltava region  1.33  1.41  1.40  1.39  1.21  1.05  1.00\n",
      "16                   Rivne region  1.99  2.08  2.00  1.89  1.74  1.53  1.51\n",
      "17                    Sumy region  1.25  1.36  1.30  1.30  1.13  0.97  0.88\n",
      "18                Ternopil region  1.45  1.50  1.48  1.40  1.25  1.12  1.08\n",
      "19                 Kharkiv region  1.25  1.32  1.32  1.29  1.17  1.02   NaN\n",
      "20                 Kherson region  1.51  1.61  1.60  1.55  1.43  1.27   NaN\n",
      "21             Khmelnytsky region  1.56  1.62  1.61  1.59  1.39  1.26  1.16\n",
      "22                Cherkasy region  1.37  1.43  1.38  1.38  1.23  1.03   NaN\n",
      "23              Chernivtsi region  1.58  1.64  1.63  1.56  1.43  1.30  1.30\n",
      "24               Chernihiv region  1.36  1.40  1.37  1.34  1.18  1.03  0.95\n",
      "25                   city of Kyiv  1.29  1.38  1.36  1.50  1.54  1.48  1.43\n",
      "26     Sevastopol ( City Council)  1.47  1.62  1.58   NaN   NaN   NaN   NaN\n",
      "                          regions  2011  2012  2013  2015  2017  2019  2021\n",
      "0   Autonomous Republic of Crimea  1.56  1.68  1.66   NaN   NaN   NaN   NaN\n",
      "1                Vinnytsia region  1.53  1.59  1.53  1.50  1.36  1.20  1.14\n",
      "2                    Volyn region  1.81  1.92  1.86  1.74  1.62  1.48  1.45\n",
      "3           Dnipropetrovsk region  1.44  1.52  1.51  1.48  1.29  1.11  1.03\n",
      "4                  Donetsk region  1.27  1.34  1.32   NaN   NaN   NaN   NaN\n",
      "5                  Fatigue region  1.65  1.71  1.68  1.60  1.42  1.23  1.14\n",
      "6          Transcarpathian region  1.87  1.95  1.93  1.82  1.64  1.52   NaN\n",
      "7               Zaporizhia region  1.37  1.46  1.43  1.39  1.25  1.09   NaN\n",
      "8          Ivano-Frankivsk region  1.55  1.63  1.60  1.54  1.36  1.28  1.15\n",
      "9                     Kyiv region  1.58  1.67  1.64  1.65  1.41  2.15  1.07\n",
      "10              Kirovohrad region   NaN  1.61  1.57  1.49  1.30  1.12  1.04\n",
      "11                 Luhansk region  1.27  1.33  1.30   NaN   NaN   NaN   NaN\n",
      "12                    Lviv region  1.49  1.58  1.55  1.51  1.39  1.26  1.17\n",
      "13               Mykolayiv region  1.47  1.57  1.55  1.45  1.34  1.12   NaN\n",
      "14                  Odessa region  1.62  1.71  1.65  1.62  1.54  1.33   NaN\n",
      "15                 Poltava region  1.33  1.41  1.40  1.39  1.21  1.05  1.00\n",
      "16                   Rivne region  1.99  2.08  2.00  1.89  1.74  1.53  1.51\n",
      "17                    Sumy region  1.25  1.36  1.30  1.30  1.13  0.97  0.88\n",
      "18                Ternopil region  1.45  1.50  1.48  1.40  1.25  1.12  1.08\n",
      "19                 Kharkiv region  1.25  1.32  1.32  1.29  1.17  1.02   NaN\n",
      "20                 Kherson region  1.51  1.61  1.60  1.55  1.43  1.27   NaN\n",
      "21             Khmelnytsky region  1.56  1.62  1.61  1.59  1.39  1.26  1.16\n",
      "22                Cherkasy region  1.37  1.43  1.38  1.38  1.23  1.03   NaN\n",
      "23              Chernivtsi region  1.58  1.64  1.63  1.56  1.43  1.30  1.30\n",
      "24               Chernihiv region  1.36  1.40  1.37  1.34  1.18  1.03  0.95\n",
      "25                   city of Kyiv  1.29  1.38  1.36  1.50  1.54  1.48  1.43\n"
     ]
    }
   ],
   "source": [
    "print(df)\n",
    "df = df.drop([26])\n",
    "print(df)"
   ]
  },
  {
   "cell_type": "code",
   "execution_count": 152,
   "id": "a98a5e1b-ec97-428a-802e-8486779b9e61",
   "metadata": {},
   "outputs": [
    {
     "name": "stdout",
     "output_type": "stream",
     "text": [
      "                          regions  2011  2012  2013  2015  2017  2019  2021\n",
      "0   Autonomous Republic of Crimea  1.56  1.68  1.66   NaN   NaN   NaN   NaN\n",
      "1                Vinnytsia region  1.53  1.59  1.53  1.50  1.36  1.20  1.14\n",
      "2                    Volyn region  1.81  1.92  1.86  1.74  1.62  1.48  1.45\n",
      "3           Dnipropetrovsk region  1.44  1.52  1.51  1.48  1.29  1.11  1.03\n",
      "4                  Donetsk region  1.27  1.34  1.32   NaN   NaN   NaN   NaN\n",
      "5                  Fatigue region  1.65  1.71  1.68  1.60  1.42  1.23  1.14\n",
      "6          Transcarpathian region  1.87  1.95  1.93  1.82  1.64  1.52   NaN\n",
      "7               Zaporizhia region  1.37  1.46  1.43  1.39  1.25  1.09   NaN\n",
      "8          Ivano-Frankivsk region  1.55  1.63  1.60  1.54  1.36  1.28  1.15\n",
      "9                     Kyiv region  1.58  1.67  1.64  1.65  1.41  2.15  1.07\n",
      "10              Kirovohrad region   NaN  1.61  1.57  1.49  1.30  1.12  1.04\n",
      "11                 Luhansk region  1.27  1.33  1.30   NaN   NaN   NaN   NaN\n",
      "12                    Lviv region  1.49  1.58  1.55  1.51  1.39  1.26  1.17\n",
      "13               Mykolayiv region  1.47  1.57  1.55  1.45  1.34  1.12   NaN\n",
      "14                  Odessa region  1.62  1.71  1.65  1.62  1.54  1.33   NaN\n",
      "15                 Poltava region  1.33  1.41  1.40  1.39  1.21  1.05  1.00\n",
      "16                   Rivne region  1.99  2.08  2.00  1.89  1.74  1.53  1.51\n",
      "17                    Sumy region  1.25  1.36  1.30  1.30  1.13  0.97  0.88\n",
      "18                Ternopil region  1.45  1.50  1.48  1.40  1.25  1.12  1.08\n",
      "19                 Kharkiv region  1.25  1.32  1.32  1.29  1.17  1.02   NaN\n",
      "20                 Kherson region  1.51  1.61  1.60  1.55  1.43  1.27   NaN\n",
      "21             Khmelnytsky region  1.56  1.62  1.61  1.59  1.39  1.26  1.16\n",
      "22                Cherkasy region  1.37  1.43  1.38  1.38  1.23  1.03   NaN\n",
      "23              Chernivtsi region  1.58  1.64  1.63  1.56  1.43  1.30  1.30\n",
      "24               Chernihiv region  1.36  1.40  1.37  1.34  1.18  1.03  0.95\n",
      "25                   city of Kyiv  1.29  1.38  1.36  1.50  1.54  1.48  1.43\n",
      "                          regions  2011  2012  2013  2015  2017  2019  2021\n",
      "0   Autonomous Republic of Crimea  1.56  1.68  1.66  1.52  1.37  1.26  1.16\n",
      "1                Vinnytsia region  1.53  1.59  1.53  1.50  1.36  1.20  1.14\n",
      "2                    Volyn region  1.81  1.92  1.86  1.74  1.62  1.48  1.45\n",
      "3           Dnipropetrovsk region  1.44  1.52  1.51  1.48  1.29  1.11  1.03\n",
      "4                  Donetsk region  1.27  1.34  1.32  1.52  1.37  1.26  1.16\n",
      "5                  Fatigue region  1.65  1.71  1.68  1.60  1.42  1.23  1.14\n",
      "6          Transcarpathian region  1.87  1.95  1.93  1.82  1.64  1.52  1.16\n",
      "7               Zaporizhia region  1.37  1.46  1.43  1.39  1.25  1.09  1.16\n",
      "8          Ivano-Frankivsk region  1.55  1.63  1.60  1.54  1.36  1.28  1.15\n",
      "9                     Kyiv region  1.58  1.67  1.64  1.65  1.41  2.15  1.07\n",
      "10              Kirovohrad region  1.50  1.61  1.57  1.49  1.30  1.12  1.04\n",
      "11                 Luhansk region  1.27  1.33  1.30  1.52  1.37  1.26  1.16\n",
      "12                    Lviv region  1.49  1.58  1.55  1.51  1.39  1.26  1.17\n",
      "13               Mykolayiv region  1.47  1.57  1.55  1.45  1.34  1.12  1.16\n",
      "14                  Odessa region  1.62  1.71  1.65  1.62  1.54  1.33  1.16\n",
      "15                 Poltava region  1.33  1.41  1.40  1.39  1.21  1.05  1.00\n",
      "16                   Rivne region  1.99  2.08  2.00  1.89  1.74  1.53  1.51\n",
      "17                    Sumy region  1.25  1.36  1.30  1.30  1.13  0.97  0.88\n",
      "18                Ternopil region  1.45  1.50  1.48  1.40  1.25  1.12  1.08\n",
      "19                 Kharkiv region  1.25  1.32  1.32  1.29  1.17  1.02  1.16\n",
      "20                 Kherson region  1.51  1.61  1.60  1.55  1.43  1.27  1.16\n",
      "21             Khmelnytsky region  1.56  1.62  1.61  1.59  1.39  1.26  1.16\n",
      "22                Cherkasy region  1.37  1.43  1.38  1.38  1.23  1.03  1.16\n",
      "23              Chernivtsi region  1.58  1.64  1.63  1.56  1.43  1.30  1.30\n",
      "24               Chernihiv region  1.36  1.40  1.37  1.34  1.18  1.03  0.95\n",
      "25                   city of Kyiv  1.29  1.38  1.36  1.50  1.54  1.48  1.43\n"
     ]
    }
   ],
   "source": [
    "print(df)\n",
    "numeric_columns = df.select_dtypes(include='number')\n",
    "filled = numeric_columns.fillna(numeric_columns.mean().round(2))\n",
    "df = pd.concat([df['regions'], filled], axis=1)\n",
    "print(df)"
   ]
  },
  {
   "cell_type": "code",
   "execution_count": 164,
   "id": "a1cda8bd-661f-4ec7-bc60-31e3fbd35192",
   "metadata": {},
   "outputs": [
    {
     "name": "stdout",
     "output_type": "stream",
     "text": [
      "                          regions  2019\n",
      "0   Autonomous Republic of Crimea  1.26\n",
      "2                    Volyn region  1.48\n",
      "4                  Donetsk region  1.26\n",
      "6          Transcarpathian region  1.52\n",
      "8          Ivano-Frankivsk region  1.28\n",
      "9                     Kyiv region  2.15\n",
      "11                 Luhansk region  1.26\n",
      "12                    Lviv region  1.26\n",
      "14                  Odessa region  1.33\n",
      "16                   Rivne region  1.53\n",
      "20                 Kherson region  1.27\n",
      "21             Khmelnytsky region  1.26\n",
      "23              Chernivtsi region  1.30\n",
      "25                   city of Kyiv  1.48\n"
     ]
    }
   ],
   "source": [
    "mean = df[2019].sum() / len(df)\n",
    "df_2019 = df[['regions', 2019]]\n",
    "print(df_2019[df_2019[2019] > mean])"
   ]
  },
  {
   "cell_type": "code",
   "execution_count": 170,
   "id": "8a607eda-13e9-43fc-bece-447a8c77535e",
   "metadata": {},
   "outputs": [
    {
     "name": "stdout",
     "output_type": "stream",
     "text": [
      "regions    Rivne region\n",
      "2015               1.89\n",
      "Name: 16, dtype: object\n"
     ]
    }
   ],
   "source": [
    "df_2015 = df[['regions', 2015]]\n",
    "print(df_2015.loc[df[2015].idxmax()])"
   ]
  },
  {
   "cell_type": "code",
   "execution_count": 184,
   "id": "5fb56020-7e6e-452e-8089-6009886322d6",
   "metadata": {},
   "outputs": [
    {
     "data": {
      "image/png": "[encoded data removed]",
      "text/plain": [
       "<Figure size 640x480 with 1 Axes>"
      ]
     },
     "metadata": {},
     "output_type": "display_data"
    }
   ],
   "source": [
    "import matplotlib.pyplot as plt\n",
    "\n",
    "plt.bar(df['regions'], df[2019])\n",
    "plt.xticks(rotation=90)\n",
    "plt.title('Fertility rate in 2019')\n",
    "plt.xlabel('Region')\n",
    "plt.ylabel('Value')\n",
    "plt.show()"
   ]
  }
 ],
 "metadata": {
  "kernelspec": {
   "display_name": "Python 3 (ipykernel)",
   "language": "python",
   "name": "python3"
  },
  "language_info": {
   "codemirror_mode": {
    "name": "ipython",
    "version": 3
   },
   "file_extension": ".py",
   "mimetype": "text/x-python",
   "name": "python",
   "nbconvert_exporter": "python",
   "pygments_lexer": "ipython3",
   "version": "3.12.3"
  }
 },
 "nbformat": 4,
 "nbformat_minor": 5
}
